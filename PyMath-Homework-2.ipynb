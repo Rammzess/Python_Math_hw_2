{
 "cells": [
  {
   "cell_type": "code",
   "execution_count": 1,
   "id": "32231202",
   "metadata": {},
   "outputs": [],
   "source": [
    "import numpy as np\n",
    "import sympy as sym\n",
    "import matplotlib as plt"
   ]
  },
  {
   "cell_type": "code",
   "execution_count": 2,
   "id": "9ecb7dcc",
   "metadata": {},
   "outputs": [],
   "source": [
    "# ЗАДАНИЕ 1\n",
    "# Создайте матрицу 3 на 3, заполненную числами от 1 до 9\n",
    "A1 = np.array([[1, 2, 3],[4, 5, 6],[7, 8, 9]])\n",
    "A2 = np.eye(3)\n"
   ]
  },
  {
   "cell_type": "code",
   "execution_count": 6,
   "id": "121ea2fb",
   "metadata": {},
   "outputs": [
    {
     "data": {
      "text/plain": [
       "array([[ 2.,  2.,  3.],\n",
       "       [ 4.,  6.,  6.],\n",
       "       [ 7.,  8., 10.]])"
      ]
     },
     "execution_count": 6,
     "metadata": {},
     "output_type": "execute_result"
    }
   ],
   "source": [
    "# Прибавьте к ней матрицу с единицами на диагонале\n",
    "A3=A1+A2\n",
    "A3"
   ]
  },
  {
   "cell_type": "code",
   "execution_count": 8,
   "id": "a8e7b8d1",
   "metadata": {},
   "outputs": [
    {
     "data": {
      "text/plain": [
       "array([15., 34., 53.])"
      ]
     },
     "execution_count": 8,
     "metadata": {},
     "output_type": "execute_result"
    }
   ],
   "source": [
    "# Умножьте полученную матрицу на вектор (1, 2, 3)\n",
    "Vec_A=np.array([1,2,3])\n",
    "A4=A3@Vec_A\n",
    "A4"
   ]
  },
  {
   "cell_type": "code",
   "execution_count": 10,
   "id": "f43bc8ef",
   "metadata": {},
   "outputs": [
    {
     "data": {
      "text/plain": [
       "array([[ 2.,  4.,  7.],\n",
       "       [ 2.,  6.,  8.],\n",
       "       [ 3.,  6., 10.]])"
      ]
     },
     "execution_count": 10,
     "metadata": {},
     "output_type": "execute_result"
    }
   ],
   "source": [
    "# Вычислить транспонированную матрицу от полученной в результате прибавления матрицы\n",
    "A3_t=np.transpose(A3)\n",
    "A3_t"
   ]
  },
  {
   "cell_type": "code",
   "execution_count": 15,
   "id": "a5b64163",
   "metadata": {},
   "outputs": [
    {
     "data": {
      "text/plain": [
       "array([[-6.00000000e+00, -2.00000000e+00,  3.00000000e+00],\n",
       "       [-1.00000000e+00,  5.00000000e-01,  5.44009282e-16],\n",
       "       [ 5.00000000e+00,  1.00000000e+00, -2.00000000e+00]])"
      ]
     },
     "execution_count": 15,
     "metadata": {},
     "output_type": "execute_result"
    }
   ],
   "source": [
    "# Посчитайте обратную матрицу к полученной в результате прибавления матрице\n",
    "A3_inv=np.linalg.inv(A3)\n",
    "A3_inv"
   ]
  },
  {
   "cell_type": "code",
   "execution_count": 16,
   "id": "3ea1e9bd",
   "metadata": {},
   "outputs": [
    {
     "data": {
      "text/plain": [
       "array([[1.00000000e+00, 0.00000000e+00, 8.88178420e-16],\n",
       "       [4.77395901e-16, 1.00000000e+00, 2.22044605e-16],\n",
       "       [6.66133815e-16, 0.00000000e+00, 1.00000000e+00]])"
      ]
     },
     "execution_count": 16,
     "metadata": {},
     "output_type": "execute_result"
    }
   ],
   "source": [
    "# Значения получились значительно меньше нуля, обратной матрицы не существует\n",
    "A3_inv@A3 # в итоге перемножения мы не получили единичную матрицу, следовательно утверждение верно"
   ]
  },
  {
   "cell_type": "code",
   "execution_count": 19,
   "id": "66ca605f",
   "metadata": {},
   "outputs": [
    {
     "name": "stdout",
     "output_type": "stream",
     "text": [
      "[[2 2]\n",
      " [1 3]]\n"
     ]
    },
    {
     "data": {
      "text/plain": [
       "(array([1., 4.]),\n",
       " array([[-0.89442719, -0.70710678],\n",
       "        [ 0.4472136 , -0.70710678]]))"
      ]
     },
     "execution_count": 19,
     "metadata": {},
     "output_type": "execute_result"
    }
   ],
   "source": [
    "# ЗАДАНИЕ 2\n",
    "# Найдите собственные значения и собственные вектора матрицы:\n",
    "m = np.array([[2, 2],\n",
    "              [1, 3]])\n",
    "print(m)\n",
    "np.linalg.eigvals(m) # собственные значения матрицы\n",
    "np.linalg.eig(m) # собственные векторы матрицы"
   ]
  },
  {
   "cell_type": "code",
   "execution_count": 88,
   "id": "c05d2ae4",
   "metadata": {},
   "outputs": [
    {
     "data": {
      "text/plain": [
       "1.0"
      ]
     },
     "execution_count": 88,
     "metadata": {},
     "output_type": "execute_result"
    }
   ],
   "source": [
    "# ЗАДАНИЕ 3\n",
    "# Придумайте матрицу, у которой определитель = 1, и все элементы не равны 0.\n",
    "# P.S. Матрица должна быть ненулевой и размерностью не менее 2!\n",
    "A_uno=([[1, 2, 1], [1, 2, 2], [1, 1, 2]]) # за основу взята матрица с рангом 3\n",
    "np.linalg.det(A_uno)"
   ]
  },
  {
   "cell_type": "code",
   "execution_count": null,
   "id": "36ee23b9",
   "metadata": {},
   "outputs": [],
   "source": []
  }
 ],
 "metadata": {
  "kernelspec": {
   "display_name": "Python 3 (ipykernel)",
   "language": "python",
   "name": "python3"
  },
  "language_info": {
   "codemirror_mode": {
    "name": "ipython",
    "version": 3
   },
   "file_extension": ".py",
   "mimetype": "text/x-python",
   "name": "python",
   "nbconvert_exporter": "python",
   "pygments_lexer": "ipython3",
   "version": "3.10.4"
  }
 },
 "nbformat": 4,
 "nbformat_minor": 5
}
